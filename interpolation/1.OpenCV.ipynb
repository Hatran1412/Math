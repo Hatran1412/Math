{
 "cells": [
  {
   "cell_type": "markdown",
   "id": "ee07b00a",
   "metadata": {},
   "source": [
    "## OpenCV"
   ]
  },
  {
   "cell_type": "code",
   "execution_count": 1,
   "id": "4a91a7aa",
   "metadata": {},
   "outputs": [
    {
     "name": "stdout",
     "output_type": "stream",
     "text": [
      "(250, 600)\n"
     ]
    }
   ],
   "source": [
    "import cv2\n",
    "\n",
    "image = cv2.imread('tree.jpeg', 0)\n",
    "shape = image.shape\n",
    "print(shape)"
   ]
  },
  {
   "cell_type": "code",
   "execution_count": 2,
   "id": "f0fa46c9",
   "metadata": {},
   "outputs": [
    {
     "name": "stdout",
     "output_type": "stream",
     "text": [
      "250\n",
      "600\n"
     ]
    }
   ],
   "source": [
    "import cv2\n",
    "\n",
    "image = cv2.imread('nature.jpg', 0)\n",
    "height, width = image.shape\n",
    "\n",
    "print(height)\n",
    "print(width)"
   ]
  },
  {
   "cell_type": "code",
   "execution_count": null,
   "id": "3d1d344b",
   "metadata": {},
   "outputs": [],
   "source": []
  },
  {
   "cell_type": "code",
   "execution_count": 2,
   "id": "d3f0d34e",
   "metadata": {},
   "outputs": [
    {
     "name": "stdout",
     "output_type": "stream",
     "text": [
      "height: 400\n",
      "width: 400\n"
     ]
    },
    {
     "data": {
      "text/plain": [
       "True"
      ]
     },
     "execution_count": 2,
     "metadata": {},
     "output_type": "execute_result"
    }
   ],
   "source": [
    "import cv2\n",
    "import numpy as np\n",
    "\n",
    "image = cv2.imread('tree.jpeg', 0).tolist()\n",
    "\n",
    "height = len(image)\n",
    "width = len(image[0])\n",
    "\n",
    "print(f'height: {height}')\n",
    "print(f'width: {width}')\n",
    "\n",
    "cv2.imwrite('tree.jpg', np.array(image))"
   ]
  },
  {
   "cell_type": "code",
   "execution_count": null,
   "id": "32d2af03",
   "metadata": {},
   "outputs": [],
   "source": []
  },
  {
   "cell_type": "markdown",
   "id": "e91ee0ea",
   "metadata": {},
   "source": [
    "## Create black and noise images"
   ]
  },
  {
   "cell_type": "code",
   "execution_count": 1,
   "id": "ba634d3e",
   "metadata": {},
   "outputs": [
    {
     "data": {
      "text/plain": [
       "True"
      ]
     },
     "execution_count": 1,
     "metadata": {},
     "output_type": "execute_result"
    }
   ],
   "source": [
    "# create a black image\n",
    "\n",
    "import cv2\n",
    "import numpy as np\n",
    "\n",
    "height = 500\n",
    "width = 500\n",
    "image = [[0]*width for _ in range(height)]\n",
    "\n",
    "cv2.imwrite('1.black_image.jpg', np.array(image))"
   ]
  },
  {
   "cell_type": "code",
   "execution_count": 3,
   "id": "18bfd4c5",
   "metadata": {},
   "outputs": [
    {
     "data": {
      "text/plain": [
       "True"
      ]
     },
     "execution_count": 3,
     "metadata": {},
     "output_type": "execute_result"
    }
   ],
   "source": [
    "# create a black image\n",
    "\n",
    "import cv2\n",
    "import numpy as np\n",
    "import random\n",
    "\n",
    "height = 500\n",
    "width = 500\n",
    "image = [[0]*width for _ in range(height)]\n",
    "\n",
    "# set noise to each pixel\n",
    "# a random integer in [0, 2550]\n",
    "for i in range(height):\n",
    "    for j in range(width):\n",
    "        image[i][j] = random.randint(0, 255)\n",
    "\n",
    "cv2.imwrite('1.noise_image.jpg', np.array(image))"
   ]
  },
  {
   "cell_type": "code",
   "execution_count": null,
   "id": "99e22053",
   "metadata": {},
   "outputs": [],
   "source": []
  }
 ],
 "metadata": {
  "kernelspec": {
   "display_name": "Python 3 (ipykernel)",
   "language": "python",
   "name": "python3"
  },
  "language_info": {
   "codemirror_mode": {
    "name": "ipython",
    "version": 3
   },
   "file_extension": ".py",
   "mimetype": "text/x-python",
   "name": "python",
   "nbconvert_exporter": "python",
   "pygments_lexer": "ipython3",
   "version": "3.9.13"
  }
 },
 "nbformat": 4,
 "nbformat_minor": 5
}
