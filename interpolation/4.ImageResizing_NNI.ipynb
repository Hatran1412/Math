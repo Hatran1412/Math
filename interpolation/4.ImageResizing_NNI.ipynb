{
 "cells": [
  {
   "cell_type": "markdown",
   "id": "51c4a40d",
   "metadata": {},
   "source": [
    "## 1D Nearest neighbor interpolation for image resizing"
   ]
  },
  {
   "cell_type": "markdown",
   "id": "66fa8917",
   "metadata": {},
   "source": [
    "#### Illustration"
   ]
  },
  {
   "cell_type": "code",
   "execution_count": 6,
   "id": "fd8f6bb9",
   "metadata": {},
   "outputs": [],
   "source": [
    "# version 1 (incomplete)\n",
    "import math\n",
    "\n",
    "def resize_nni_1(source, source_h, source_w, target_h, target_w):\n",
    "    #Calculate horizontal and vertical scaling factor\n",
    "    w_scale_factor = source_w/target_w \n",
    "    h_scale_factor = source_h/target_h\n",
    "    \n",
    "    # step 1\n",
    "    new_data_1 = [[0]*target_w for _ in range(source_h)]    \n",
    "    for i in range(source_h):\n",
    "        for j in range(target_w):\n",
    "            j_scaled = math.floor(j*w_scale_factor)\n",
    "            new_data_1[i][j] = source[i][j_scaled]    \n",
    "            \n",
    "    return new_data_1"
   ]
  },
  {
   "cell_type": "code",
   "execution_count": 8,
   "id": "0f16dbaf",
   "metadata": {},
   "outputs": [
    {
     "name": "stdout",
     "output_type": "stream",
     "text": [
      "[0, 0, 1, 1, 2, 2]\n",
      "[3, 3, 4, 4, 5, 5]\n",
      "[6, 6, 7, 7, 8, 8]\n"
     ]
    }
   ],
   "source": [
    "# test\n",
    "data = [[0, 1, 2],\n",
    "        [3, 4, 5],\n",
    "        [6, 7, 8]]\n",
    "\n",
    "new_data = resize_nni_1(data, 3, 3, 6, 6)\n",
    "for row in new_data:\n",
    "    print(row)"
   ]
  },
  {
   "cell_type": "code",
   "execution_count": null,
   "id": "8ae4fe65",
   "metadata": {},
   "outputs": [],
   "source": []
  },
  {
   "cell_type": "code",
   "execution_count": 13,
   "id": "141ebb3a",
   "metadata": {},
   "outputs": [],
   "source": [
    "# version 1\n",
    "import math\n",
    "\n",
    "def resize_nni_1(source, source_h, source_w, target_h, target_w):\n",
    "    #Calculate horizontal and vertical scaling factor\n",
    "    w_scale_factor = source_w/target_w \n",
    "    h_scale_factor = source_h/target_h\n",
    "    \n",
    "    # step 1\n",
    "    new_data_1 = [[0]*target_w for _ in range(source_h)]    \n",
    "    for i in range(source_h):\n",
    "        for j in range(target_w):\n",
    "            j_scaled = math.floor(j*w_scale_factor)\n",
    "            new_data_1[i][j] = source[i][j_scaled]\n",
    "    \n",
    "    # step 2\n",
    "    new_data_2 = [[0]*target_w for _ in range(target_h)]         \n",
    "    for j in range(target_w):\n",
    "        for i in range(target_h):        \n",
    "            i_scaled = math.floor(i*h_scale_factor)\n",
    "            new_data_2[i][j] = new_data_1[i_scaled][j]\n",
    "          \n",
    "    return new_data_2"
   ]
  },
  {
   "cell_type": "code",
   "execution_count": 14,
   "id": "1f57995a",
   "metadata": {},
   "outputs": [
    {
     "name": "stdout",
     "output_type": "stream",
     "text": [
      "[0, 0, 1, 1, 2, 2]\n",
      "[0, 0, 1, 1, 2, 2]\n",
      "[3, 3, 4, 4, 5, 5]\n",
      "[3, 3, 4, 4, 5, 5]\n",
      "[6, 6, 7, 7, 8, 8]\n",
      "[6, 6, 7, 7, 8, 8]\n"
     ]
    }
   ],
   "source": [
    "# test\n",
    "data = [[0, 1, 2],\n",
    "        [3, 4, 5],\n",
    "        [6, 7, 8]]\n",
    "\n",
    "new_data = resize_nni_1(data, 3, 3, 6, 6)\n",
    "for row in new_data:\n",
    "    print(row)"
   ]
  },
  {
   "cell_type": "code",
   "execution_count": null,
   "id": "27eb34ec",
   "metadata": {},
   "outputs": [],
   "source": []
  },
  {
   "cell_type": "code",
   "execution_count": null,
   "id": "d11f5310",
   "metadata": {},
   "outputs": [],
   "source": []
  },
  {
   "cell_type": "code",
   "execution_count": null,
   "id": "f992bf3b",
   "metadata": {},
   "outputs": [],
   "source": []
  },
  {
   "cell_type": "code",
   "execution_count": 15,
   "id": "2bbfa8a2",
   "metadata": {},
   "outputs": [],
   "source": [
    "# version 2\n",
    "\n",
    "import math\n",
    "\n",
    "def resize_nni_2(source, source_h, source_w, target_h, target_w):    \n",
    "    new_data = [[0]*target_w for _ in range(target_h)]\n",
    "    \n",
    "    #Calculate horizontal and vertical scaling factor\n",
    "    w_scale_factor = source_w/target_w \n",
    "    h_scale_factor = source_h/target_h\n",
    "    \n",
    "    for i in range(target_h):\n",
    "        for j in range(target_w):\n",
    "            y = math.floor(i*h_scale_factor)\n",
    "            x = math.floor(j*w_scale_factor)\n",
    "            new_data[i][j] = source[y][x]\n",
    "            \n",
    "    return new_data"
   ]
  },
  {
   "cell_type": "code",
   "execution_count": 16,
   "id": "eed2914e",
   "metadata": {},
   "outputs": [
    {
     "name": "stdout",
     "output_type": "stream",
     "text": [
      "[0, 0, 1, 1, 2, 2]\n",
      "[0, 0, 1, 1, 2, 2]\n",
      "[3, 3, 4, 4, 5, 5]\n",
      "[3, 3, 4, 4, 5, 5]\n",
      "[6, 6, 7, 7, 8, 8]\n",
      "[6, 6, 7, 7, 8, 8]\n"
     ]
    }
   ],
   "source": [
    "# test\n",
    "data = [[0, 1, 2],\n",
    "        [3, 4, 5],\n",
    "        [6, 7, 8]]\n",
    "\n",
    "new_data = resize_nni_2(data, 3, 3, 6, 6)\n",
    "for row in new_data:\n",
    "    print(row)"
   ]
  },
  {
   "cell_type": "code",
   "execution_count": null,
   "id": "a4c0717b",
   "metadata": {},
   "outputs": [],
   "source": []
  },
  {
   "cell_type": "markdown",
   "id": "3c41227c",
   "metadata": {},
   "source": [
    "#### Application to gray-scale image"
   ]
  },
  {
   "cell_type": "code",
   "execution_count": 17,
   "id": "ddf4efc2",
   "metadata": {},
   "outputs": [
    {
     "name": "stdout",
     "output_type": "stream",
     "text": [
      "height: 250\n",
      "width: 600\n"
     ]
    }
   ],
   "source": [
    "import cv2\n",
    "\n",
    "image = cv2.imread('nature.jpg', 0).tolist()\n",
    "\n",
    "height = len(image)\n",
    "width = len(image[0])\n",
    "\n",
    "print(f'height: {height}')\n",
    "print(f'width: {width}')"
   ]
  },
  {
   "cell_type": "code",
   "execution_count": 18,
   "id": "2fde90ad",
   "metadata": {},
   "outputs": [
    {
     "name": "stdout",
     "output_type": "stream",
     "text": [
      "[97, 127, 123, 105, 114, 121, 98, 76, 72, 62, 46, 34, 37, 47, 52, 50, 54, 49, 51, 55, 51, 45, 52, 66, 54, 46, 40, 42, 47, 47, 38, 29, 28, 30, 32, 33, 32, 30, 29, 29, 32, 56, 81, 64, 62, 50, 53, 41, 41, 38, 43, 66, 63, 43, 85, 48, 42, 61, 71, 56, 39, 39, 53, 63, 49, 46, 51, 59, 57, 46, 40, 42, 28, 33, 35, 39, 45, 41, 37, 43, 34, 31, 31, 67, 76, 69, 91, 95, 110, 88, 89, 67, 56, 58, 69, 134, 125, 136, 81, 72, 78, 64, 76, 57, 64, 51, 60, 70, 55, 45, 51, 52, 45, 68, 72, 66, 72, 71, 66, 73, 78, 74, 69, 62, 56, 54, 57, 62, 63, 62, 59, 59, 66, 75, 77, 74, 77, 80, 79, 72, 66, 69, 82, 93, 82, 61, 59, 64, 56, 55, 61, 57, 66, 65, 65, 64, 65, 66, 68, 70, 72, 65, 61, 61, 58, 55, 64, 77, 98, 91, 78, 67, 69, 74, 69, 57, 68, 68, 66, 64, 61, 57, 53, 51, 59, 71, 85, 88, 79, 67, 68, 75, 91, 92, 97, 92, 77, 74, 78, 75, 62, 65, 66, 67, 71, 78, 78, 74, 73, 76, 91, 73, 112, 90, 96, 91, 88, 118, 124, 111, 110, 105, 84, 68, 79, 75, 70, 69, 73, 79, 82, 84, 77, 72, 66, 66, 73, 80, 77, 70, 70, 69, 70, 73, 75, 74, 71, 69, 58, 77, 80, 89, 91, 97, 108, 83, 85, 86, 81, 83, 89, 84, 81, 89, 90, 101, 107, 123, 107, 82, 91, 86, 79, 74, 93, 110, 117, 106, 80, 75, 80, 82, 85, 80, 77, 88, 90, 77, 86, 73, 78, 92, 90, 83, 82, 82, 90, 87, 99, 92, 99, 79, 79, 72, 73, 96, 126, 132, 111, 94, 89, 84, 94, 80, 83, 80, 95, 79, 99, 124, 141, 115, 100, 112, 104, 92, 94, 77, 85, 86, 90, 114, 101, 104, 93, 94, 97, 112, 105, 81, 90, 96, 83, 97, 88, 87, 101, 97, 98, 116, 118, 116, 130, 113, 92, 105, 113, 130, 116, 132, 113, 103, 95, 96, 101, 99, 92, 86, 89, 95, 94, 84, 87, 106, 96, 61, 62, 66, 70, 68, 66, 70, 81, 90, 97, 73, 73, 71, 92, 82, 77, 89, 100, 136, 91, 97, 120, 101, 70, 88, 93, 135, 138, 104, 99, 120, 118, 96, 87, 109, 111, 113, 107, 104, 99, 62, 54, 58, 70, 69, 79, 92, 78, 68, 86, 76, 95, 95, 103, 124, 110, 101, 86, 88, 89, 83, 73, 70, 78, 88, 73, 80, 99, 126, 84, 67, 85, 137, 113, 89, 98, 108, 83, 76, 99, 113, 86, 81, 59, 83, 74, 62, 96, 72, 69, 73, 82, 98, 103, 82, 61, 60, 58, 43, 64, 69, 89, 75, 64, 61, 72, 71, 72, 80, 95, 61, 82, 114, 89, 63, 37, 58, 57, 62, 46, 51, 62, 57, 51, 62, 45, 64, 56, 41, 47, 61, 69, 67, 67, 71, 65, 52, 43, 47, 47, 51, 56, 51, 50, 62, 55, 69, 68, 94, 118, 95, 77, 76, 111, 121, 103, 53, 46, 43, 59, 33, 40, 43, 42, 62, 86, 71, 66, 97, 134, 112, 121, 105, 80, 46, 60, 65, 76, 100, 99, 111, 113, 80, 76, 98, 107, 56, 63, 65, 66, 75, 51, 48, 48, 82, 103, 113, 72, 52, 32, 40, 81, 103, 107, 76, 73, 90, 83, 77, 63, 54, 50, 84, 115, 111, 85, 47, 42, 46, 44, 42, 54, 75, 86, 84]\n"
     ]
    }
   ],
   "source": [
    "# print the first row\n",
    "print(image[0])"
   ]
  },
  {
   "cell_type": "code",
   "execution_count": null,
   "id": "c2c5991e",
   "metadata": {},
   "outputs": [],
   "source": []
  },
  {
   "cell_type": "code",
   "execution_count": 24,
   "id": "52a1fcab",
   "metadata": {},
   "outputs": [
    {
     "data": {
      "text/plain": [
       "True"
      ]
     },
     "execution_count": 24,
     "metadata": {},
     "output_type": "execute_result"
    }
   ],
   "source": [
    "import cv2\n",
    "import numpy as np\n",
    "\n",
    "image = cv2.imread('nature.jpg', 0).tolist()\n",
    "\n",
    "height = len(image)\n",
    "width = len(image[0])\n",
    "\n",
    "new_image = resize_nni_2(image, height, width, height*2, width*2)\n",
    "cv2.imwrite('4.nature_nni_2x.jpg', np.array(new_image))"
   ]
  },
  {
   "cell_type": "code",
   "execution_count": null,
   "id": "ddf052cd",
   "metadata": {},
   "outputs": [],
   "source": []
  },
  {
   "cell_type": "code",
   "execution_count": null,
   "id": "05f38f0c",
   "metadata": {},
   "outputs": [],
   "source": [
    "# ...\n",
    "source_h = 3\n",
    "source_w = 3\n",
    "target_h = 6\n",
    "target_w = 6\n",
    "\n",
    "# step 1\n",
    "new_data_1 = [[0]*target_w for _ in range(source_h)]    \n",
    "for i in range(source_h):\n",
    "    for j in range(target_w):\n",
    "        j_scaled = math.floor(j*w_scale_factor)\n",
    "        new_data_1[i][j] = source[i][j_scaled]\n",
    "\n",
    "# step 2\n",
    "new_data_2 = [[0]*target_w for _ in range(target_h)]         \n",
    "for j in range(target_w):\n",
    "    for i in range(target_h):        \n",
    "        i_scaled = math.floor(i*h_scale_factor)\n",
    "        new_data_2[i][j] = new_data_1[i_scaled][j]"
   ]
  },
  {
   "cell_type": "code",
   "execution_count": null,
   "id": "f974504c",
   "metadata": {},
   "outputs": [],
   "source": []
  },
  {
   "cell_type": "code",
   "execution_count": null,
   "id": "6d4dba0c",
   "metadata": {},
   "outputs": [],
   "source": []
  }
 ],
 "metadata": {
  "kernelspec": {
   "display_name": "Python 3 (ipykernel)",
   "language": "python",
   "name": "python3"
  },
  "language_info": {
   "codemirror_mode": {
    "name": "ipython",
    "version": 3
   },
   "file_extension": ".py",
   "mimetype": "text/x-python",
   "name": "python",
   "nbconvert_exporter": "python",
   "pygments_lexer": "ipython3",
   "version": "3.9.13"
  }
 },
 "nbformat": 4,
 "nbformat_minor": 5
}
