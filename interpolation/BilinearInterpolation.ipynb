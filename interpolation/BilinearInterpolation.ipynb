{
 "cells": [
  {
   "cell_type": "markdown",
   "id": "4736ceeb",
   "metadata": {},
   "source": [
    "## Bilinear Interpolation"
   ]
  },
  {
   "cell_type": "code",
   "execution_count": 1,
   "id": "9bda45d5",
   "metadata": {},
   "outputs": [
    {
     "name": "stdout",
     "output_type": "stream",
     "text": [
      "f_R1=128.5\n",
      "f_R2=150.5\n",
      "f_P=146.10000000000002\n"
     ]
    }
   ],
   "source": [
    "x1=14 \n",
    "x2=15 \n",
    "y1=21\n",
    "y2=20 \n",
    "\n",
    "f_Q12 = 91\n",
    "f_Q22 = 210\n",
    "f_Q11 = 162\n",
    "f_Q21 = 95\n",
    "\n",
    "# giá trị cần tìm cho tọa độ x và y\n",
    "x = 14.5\n",
    "y = 20.2 \n",
    "\n",
    "f_R1 = f_Q11*(x2-x)/(x2-x1) + f_Q21*(x-x1)/(x2-x1)\n",
    "f_R2 = f_Q12*(x2-x)/(x2-x1) + f_Q22*(x-x1)/(x2-x1)\n",
    "f_P = f_R1*(y2-y)/(y2-y1) + f_R2*(y-y1)/(y2-y1)\n",
    "\n",
    "print(f\"f_R1={f_R1}\")\n",
    "print(f\"f_R2={f_R2}\")\n",
    "print(f\"f_P={f_P}\")"
   ]
  },
  {
   "cell_type": "code",
   "execution_count": null,
   "id": "ea434962",
   "metadata": {},
   "outputs": [],
   "source": []
  },
  {
   "cell_type": "code",
   "execution_count": null,
   "id": "8d4498e4",
   "metadata": {},
   "outputs": [],
   "source": []
  },
  {
   "cell_type": "code",
   "execution_count": null,
   "id": "8cbac9bf",
   "metadata": {},
   "outputs": [],
   "source": []
  },
  {
   "cell_type": "code",
   "execution_count": null,
   "id": "585d66f0",
   "metadata": {},
   "outputs": [],
   "source": [
    "def bilinear_interpolation(coors, P, f):\n",
    "    x1, y1, x2, y2 = coors    \n",
    "    x, y = P\n",
    "    \n",
    "    f_Q12 = f[y2, x1]\n",
    "    f_Q22 = f[y2, x2]\n",
    "    f_Q11 = f[y1, x1]\n",
    "    f_Q21 = f[y1, x2]\n",
    "\n",
    "    f_R1 = f_Q11*(x2-x)/(x2-x1) + f_Q21*(x-x1)/(x2-x1)\n",
    "    f_R2 = f_Q12*(x2-x)/(x2-x1) + f_Q22*(x-x1)/(x2-x1)\n",
    "    f_P = f_R1*(y2-y)/(y2-y1) + f_R2*(y-y1)/(y2-y1)\n",
    "   \n",
    "    return f_P\n",
    "\n",
    "\n",
    "def bilinear_interpolation_resize(image, new_h, new_w):\n",
    "    old_h, old_w = image.shape[:2]\n",
    "    new_image = np.zeros((new_h, new_w))\n",
    "    \n",
    "    #Calculate horizontal and vertical scaling factor\n",
    "    w_scale_factor = old_w/new_w \n",
    "    h_scale_factor = old_h/new_h\n",
    "\n",
    "    for y_new in range(new_h):\n",
    "        for x_new in range(new_w):\n",
    "    \n",
    "            #map the coordinates back to the original image\n",
    "            y_new_scaled = y_new * h_scale_factor\n",
    "            x_new_scaled = x_new * w_scale_factor\n",
    "    \n",
    "            #calculate the coordinate values for 4 surrounding pixels.\n",
    "            x1 = math.floor(x_new_scaled)\n",
    "            x2 = min(old_w - 1, math.ceil(x_new_scaled))\n",
    "            y2 = math.floor(y_new_scaled)\n",
    "            y1 = min(old_h - 1, math.ceil(y_new_scaled))\n",
    "            \n",
    "            if (x2 == x1) and (y1 == y2):\n",
    "                f_P = image[int(y_new_scaled), int(x_new_scaled)]\n",
    "           \n",
    "            elif (x2 == x1):  # (vertical) linear interpolation \n",
    "                f_R1 = image[int(y1), int(x_new_scaled)]\n",
    "                f_R2 = image[int(y2), int(x_new_scaled)]\n",
    "                f_P = f_R1*(y2-y_new_scaled)/(y2-y1) + f_R2*(y_new_scaled-y1)/(y2-y1)\n",
    "                \n",
    "            \n",
    "            elif (y1 == y2): # (horizontal) linear interpolation \n",
    "                f_RX1 = image[int(y_new_scaled), int(x1)]\n",
    "                f_RX2 = image[int(y_new_scaled), int(x2)]\n",
    "                f_P = f_RX1*(x2-x_new_scaled)/(x2-x1) + f_RX2*(x_new_scaled-x1)/(x2-x1)\n",
    "                \n",
    "            else:\n",
    "                coors = [x1, y1, x2, y2]\n",
    "                P = [x_new_scaled, y_new_scaled]\n",
    "                f_P = bilinear_interpolation(coors, P, image)\n",
    "                \n",
    "            new_image[y_new,x_new] = f_P\n",
    "    return new_image.astype(np.uint8)"
   ]
  },
  {
   "cell_type": "code",
   "execution_count": null,
   "id": "aea09b93",
   "metadata": {},
   "outputs": [],
   "source": []
  },
  {
   "cell_type": "code",
   "execution_count": null,
   "id": "6a8c9271",
   "metadata": {},
   "outputs": [],
   "source": []
  },
  {
   "cell_type": "code",
   "execution_count": null,
   "id": "6ec1eb66",
   "metadata": {},
   "outputs": [],
   "source": []
  },
  {
   "cell_type": "code",
   "execution_count": null,
   "id": "26535d70",
   "metadata": {},
   "outputs": [],
   "source": []
  },
  {
   "cell_type": "code",
   "execution_count": null,
   "id": "4a1f4c46",
   "metadata": {},
   "outputs": [],
   "source": []
  },
  {
   "cell_type": "code",
   "execution_count": null,
   "id": "1363dfec",
   "metadata": {},
   "outputs": [],
   "source": []
  },
  {
   "cell_type": "code",
   "execution_count": null,
   "id": "cf7b3bcc",
   "metadata": {},
   "outputs": [],
   "source": []
  },
  {
   "cell_type": "code",
   "execution_count": null,
   "id": "104ade09",
   "metadata": {},
   "outputs": [],
   "source": []
  },
  {
   "cell_type": "code",
   "execution_count": null,
   "id": "e975f8a4",
   "metadata": {},
   "outputs": [],
   "source": []
  }
 ],
 "metadata": {
  "kernelspec": {
   "display_name": "Python 3 (ipykernel)",
   "language": "python",
   "name": "python3"
  },
  "language_info": {
   "codemirror_mode": {
    "name": "ipython",
    "version": 3
   },
   "file_extension": ".py",
   "mimetype": "text/x-python",
   "name": "python",
   "nbconvert_exporter": "python",
   "pygments_lexer": "ipython3",
   "version": "3.9.13"
  }
 },
 "nbformat": 4,
 "nbformat_minor": 5
}
